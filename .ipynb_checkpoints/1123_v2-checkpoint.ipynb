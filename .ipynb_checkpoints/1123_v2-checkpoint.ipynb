{
 "cells": [
  {
   "cell_type": "code",
   "execution_count": 1,
   "id": "678a7b49-66d2-47ee-8c00-d29cacb92784",
   "metadata": {},
   "outputs": [],
   "source": [
    "#1. build our own dataset"
   ]
  },
  {
   "cell_type": "code",
   "execution_count": 2,
   "id": "dff3c14f-c9d7-4faf-a935-99393ce2d33c",
   "metadata": {},
   "outputs": [
    {
     "name": "stdout",
     "output_type": "stream",
     "text": [
      "48\n",
      "19\n"
     ]
    }
   ],
   "source": [
    "from datasets import Dataset, DatasetDict\n",
    "import pandas as pd\n",
    "import numpy as np\n",
    "\n",
    "# map POS to POS_id\n",
    "cnt = 0\n",
    "POS_id = {}\n",
    "POS_ls = ['NN', 'IN', 'NNP', 'DT', 'NNS', 'JJ', 'COMMA', 'CD', '.', 'VBD', 'RB','VB', 'CC', 'VBN', 'VBZ', \n",
    "          'VBG', 'TO', 'PRP', 'VBP', 'POS', 'PRP$','MD', '$', '``', \"''\", 'WDT', ':', 'JJR', 'RP', 'RBR', \n",
    "          'WP', 'NNPS','JJS', ')', '(', 'EX', 'RBS', 'WRB', '-', 'UH', 'WP$', 'PDT', '/', '#', 'LS', 'SYM', 'FW', 'AUX']\n",
    "for pos in POS_ls:\n",
    "    POS_id[pos] = cnt\n",
    "    cnt += 1\n",
    "\n",
    "# map BIO to BIO_id\n",
    "cnt = 0\n",
    "BIO_id = {}\n",
    "BIO_ls = ['O', 'B-NP', 'I-NP', 'B-PP', 'B-ADVP', 'B-ADJP', 'B-SBAR', 'B-CONJP',\n",
    "       'I-ADJP', 'I-PP', 'I-ADVP', 'I-CONJP', 'B-INTJ', 'I-SBAR', 'B-LST',\n",
    "       'B-VP', 'B-PRT', 'I-INTJ', 'I-VP']\n",
    "for bio in BIO_ls:\n",
    "    BIO_id[bio] = cnt\n",
    "    cnt += 1\n",
    "print(len(POS_ls))\n",
    "print(len(BIO_ls))\n"
   ]
  },
  {
   "cell_type": "code",
   "execution_count": 3,
   "id": "d2116af7-acbd-4fdf-ab5e-80ef11677cbc",
   "metadata": {},
   "outputs": [
    {
     "data": {
      "text/plain": [
       "DatasetDict({\n",
       "    train: Dataset({\n",
       "        features: ['tokens', 'POS', 'BIO', 'label', 'id'],\n",
       "        num_rows: 2174\n",
       "    })\n",
       "    validation: Dataset({\n",
       "        features: ['tokens', 'POS', 'BIO', 'label', 'id'],\n",
       "        num_rows: 83\n",
       "    })\n",
       "    test: Dataset({\n",
       "        features: ['tokens', 'POS', 'BIO', 'label', 'id'],\n",
       "        num_rows: 150\n",
       "    })\n",
       "})"
      ]
     },
     "execution_count": 3,
     "metadata": {},
     "output_type": "execute_result"
    }
   ],
   "source": [
    "\n",
    "\n",
    "# map label to BIO_id\n",
    "Label_id = {\"ARG0\":0,\"ARG1\":1,\"ARG2\":2,\"PRED\":3,\"SUPPORT\":4}\n",
    "def mapLabel(label):\n",
    "    return Label_id[label] if label in Label_id else 5\n",
    "\n",
    "# build datasets\n",
    "def condense_df(file):\n",
    "    df = pd.DataFrame()\n",
    "    with open(file, 'r') as file:\n",
    "        ls = [i.split('\\t') for i in file.read().split('\\n')]\n",
    "        df = pd.DataFrame(ls)\n",
    "\n",
    "    df['id'] = df.index\n",
    "    df[0].replace('', np.nan, inplace=True)\n",
    "    df.dropna(axis=0, subset = [0], inplace = True)\n",
    "    df['BIO'] = df[2].map(BIO_id)\n",
    "    df['POS'] = df[1].map(POS_id)\n",
    "    df['label'] = df[5].map(mapLabel)\n",
    "    df['id'] = df[4].map(int)\n",
    "    df.drop(columns = [1, 2, 3, 4, 5, 6], inplace = True)\n",
    "    condense = df.groupby('id').apply(lambda x: [list(x[0]),list(x['POS']), list(x['BIO']), list(x['label'])]).apply(pd.Series)\n",
    "    condense.columns =['tokens','POS','BIO','label']\n",
    "    return condense\n",
    "\n",
    "\n",
    "train = Dataset.from_pandas(condense_df(\"Partitive-Files/%_nombank.clean.train\"))\n",
    "eval_ = Dataset.from_pandas(condense_df(\"Partitive-Files/%_nombank.clean.dev\"))\n",
    "test = Dataset.from_pandas(condense_df(\"Partitive-Files/%_nombank.clean.test\"))\n",
    "\n",
    "\n",
    "datasets = DatasetDict({\"train\": train, \"validation\":eval_, \"test\":test})\n",
    "datasets"
   ]
  },
  {
   "cell_type": "code",
   "execution_count": 4,
   "id": "ad2a9519-741f-4eb3-a074-2af5e116fcec",
   "metadata": {},
   "outputs": [],
   "source": [
    "# 2. tokenize"
   ]
  },
  {
   "cell_type": "code",
   "execution_count": 5,
   "id": "9322db92-e1ac-4c82-9f7c-86d7f9b75943",
   "metadata": {
    "tags": []
   },
   "outputs": [
    {
     "data": {
      "application/vnd.jupyter.widget-view+json": {
       "model_id": "d0a4a04f56ec40af8b45d1975d099bcb",
       "version_major": 2,
       "version_minor": 0
      },
      "text/plain": [
       "  0%|          | 0/3 [00:00<?, ?ba/s]"
      ]
     },
     "metadata": {},
     "output_type": "display_data"
    },
    {
     "data": {
      "application/vnd.jupyter.widget-view+json": {
       "model_id": "67437280fd644b2eb86bea0187aabe1a",
       "version_major": 2,
       "version_minor": 0
      },
      "text/plain": [
       "  0%|          | 0/1 [00:00<?, ?ba/s]"
      ]
     },
     "metadata": {},
     "output_type": "display_data"
    },
    {
     "data": {
      "application/vnd.jupyter.widget-view+json": {
       "model_id": "531ad9715ccd47c68d6695cb6ae926c8",
       "version_major": 2,
       "version_minor": 0
      },
      "text/plain": [
       "  0%|          | 0/1 [00:00<?, ?ba/s]"
      ]
     },
     "metadata": {},
     "output_type": "display_data"
    }
   ],
   "source": [
    "from transformers import AutoTokenizer\n",
    "\n",
    "model_checkpoint = \"bert-base-uncased\"\n",
    "tokenizer = AutoTokenizer.from_pretrained(model_checkpoint)\n",
    "\n",
    "def align_labels_with_tokens(labels, word_ids):\n",
    "    new_labels = []\n",
    "    current_word = None\n",
    "    for word_id in word_ids:\n",
    "        if not word_id:\n",
    "            new_labels.append(-100)\n",
    "        else:\n",
    "            if word_id != current_word:# Start of a new word!\n",
    "                current_word = word_id       \n",
    "            label = labels[word_id]\n",
    "            new_labels.append(label)\n",
    "\n",
    "    return new_labels\n",
    "\n",
    "def tokenize_and_align_labels(examples):\n",
    "    tokenized_inputs = tokenizer(examples[\"tokens\"], truncation=True, is_split_into_words=True)\n",
    "    all_labels = examples[\"label\"]\n",
    "    new_labels = []\n",
    "    for i, labels in enumerate(all_labels):\n",
    "        word_ids = tokenized_inputs.word_ids(i)\n",
    "        new_labels.append(align_labels_with_tokens(labels, word_ids))\n",
    "\n",
    "    tokenized_inputs[\"labels\"] = new_labels\n",
    "    return tokenized_inputs\n",
    "\n",
    "tokenized_datasets = datasets.map(\n",
    "    tokenize_and_align_labels,\n",
    "    batched=True,\n",
    "    remove_columns = datasets[\"train\"].column_names,\n",
    ")"
   ]
  },
  {
   "cell_type": "code",
   "execution_count": 6,
   "id": "575a2382-9f6c-41a4-a3b3-66c07e78e1b8",
   "metadata": {},
   "outputs": [
    {
     "data": {
      "text/plain": [
       "DatasetDict({\n",
       "    train: Dataset({\n",
       "        features: ['tokens', 'POS', 'BIO', 'label', 'id'],\n",
       "        num_rows: 2174\n",
       "    })\n",
       "    validation: Dataset({\n",
       "        features: ['tokens', 'POS', 'BIO', 'label', 'id'],\n",
       "        num_rows: 83\n",
       "    })\n",
       "    test: Dataset({\n",
       "        features: ['tokens', 'POS', 'BIO', 'label', 'id'],\n",
       "        num_rows: 150\n",
       "    })\n",
       "})"
      ]
     },
     "execution_count": 6,
     "metadata": {},
     "output_type": "execute_result"
    }
   ],
   "source": [
    "datasets"
   ]
  },
  {
   "cell_type": "code",
   "execution_count": 7,
   "id": "e660c689-1dd0-43ff-96ae-76322a39dfad",
   "metadata": {},
   "outputs": [],
   "source": [
    "#for target in ['train','validation','test']:\n",
    "#    for add in ['POS', 'BIO']:\n",
    "#        tokenized_datasets[target] = tokenized_datasets[target].add_column(add, datasets[target][add])"
   ]
  },
  {
   "cell_type": "code",
   "execution_count": 8,
   "id": "d74815de-13bb-4a67-a5ba-2ad487f939e2",
   "metadata": {},
   "outputs": [
    {
     "name": "stdout",
     "output_type": "stream",
     "text": [
      "Dataset({\n",
      "    features: ['input_ids', 'token_type_ids', 'attention_mask', 'labels'],\n",
      "    num_rows: 2174\n",
      "})\n",
      "Dataset({\n",
      "    features: ['input_ids', 'token_type_ids', 'attention_mask', 'labels'],\n",
      "    num_rows: 83\n",
      "})\n",
      "Dataset({\n",
      "    features: ['input_ids', 'token_type_ids', 'attention_mask', 'labels'],\n",
      "    num_rows: 150\n",
      "})\n"
     ]
    }
   ],
   "source": [
    "print(tokenized_datasets['train'])\n",
    "print(tokenized_datasets['validation'])\n",
    "print(tokenized_datasets['test'])"
   ]
  },
  {
   "cell_type": "code",
   "execution_count": 9,
   "id": "2c5bb72b-941a-46de-8b81-304dc93c503b",
   "metadata": {
    "tags": []
   },
   "outputs": [],
   "source": [
    "#tokenized_datasets['test'][0]"
   ]
  },
  {
   "cell_type": "code",
   "execution_count": 10,
   "id": "d5dcee1a-9723-488a-b24d-4fe24087e9c4",
   "metadata": {},
   "outputs": [
    {
     "name": "stdout",
     "output_type": "stream",
     "text": [
      "88\n",
      "1654\n"
     ]
    }
   ],
   "source": [
    "mxLen, mxIdx = 0, 0\n",
    "for idx, x in enumerate(tokenized_datasets[\"train\"]['input_ids']):\n",
    "    if mxLen < len(x):\n",
    "        mxLen = len(x)\n",
    "        mxIdx = idx\n",
    "\n",
    "print(mxLen)\n",
    "print(mxIdx)"
   ]
  },
  {
   "cell_type": "code",
   "execution_count": 11,
   "id": "7d863e5c-370e-4d3c-84f6-b8db635eec8f",
   "metadata": {
    "tags": []
   },
   "outputs": [
    {
     "name": "stdout",
     "output_type": "stream",
     "text": [
      "the original length is:  48\n",
      "the original example is:  ['Institut', 'Merieux', 'COMMA', 'which', 'already', 'holds', 'a', '12.5', '%', 'stake', 'in', 'Connaught', 'COMMA', 'said', 'that', 'at', 'the', 'close', 'of', 'business', 'Thursday', 'COMMA', '5COMMA745COMMA188', 'shares', 'of', 'Connaught', 'and', 'C$', '44.3', 'million', 'face', 'amount', 'of', 'debentures', 'COMMA', 'convertible', 'into', '1COMMA826COMMA596', 'common', 'shares', 'COMMA', 'had', 'been', 'tendered', 'to', 'its', 'offer', '.']\n",
      "the tokenized output is:  ['[CLS]', 'institut', 'mer', '##ieu', '##x', 'com', '##ma', 'which', 'already', 'holds', 'a', '12', '.', '5', '%', 'stake', 'in', 'con', '##na', '##ught', 'com', '##ma', 'said', 'that', 'at', 'the', 'close', 'of', 'business', 'thursday', 'com', '##ma', '5', '##com', '##ma', '##7', '##45', '##com', '##ma', '##18', '##8', 'shares', 'of', 'con', '##na', '##ught', 'and', 'c', '$', '44', '.', '3', 'million', 'face', 'amount', 'of', 'de', '##ben', '##tures', 'com', '##ma', 'convertible', 'into', '1', '##com', '##ma', '##8', '##26', '##com', '##ma', '##59', '##6', 'common', 'shares', 'com', '##ma', 'had', 'been', 'tender', '##ed', 'to', 'its', 'offer', '.', '[SEP]']\n",
      "the tokenized length is:  85\n"
     ]
    }
   ],
   "source": [
    "example = datasets['train'][286]['tokens']\n",
    "tokenized_input = tokenizer(example, is_split_into_words=True)\n",
    "tokens = tokenizer.convert_ids_to_tokens(tokenized_input[\"input_ids\"])\n",
    "print(\"the original length is: \", len(example))\n",
    "print(\"the original example is: \", example)\n",
    "print(\"the tokenized output is: \", tokens)\n",
    "print(\"the tokenized length is: \", len(tokens))"
   ]
  },
  {
   "cell_type": "code",
   "execution_count": 12,
   "id": "a280152e-01b5-4224-ad56-ee490d45e73e",
   "metadata": {},
   "outputs": [
    {
     "data": {
      "text/plain": [
       "DatasetDict({\n",
       "    train: Dataset({\n",
       "        features: ['input_ids', 'token_type_ids', 'attention_mask', 'labels'],\n",
       "        num_rows: 2174\n",
       "    })\n",
       "    validation: Dataset({\n",
       "        features: ['input_ids', 'token_type_ids', 'attention_mask', 'labels'],\n",
       "        num_rows: 83\n",
       "    })\n",
       "    test: Dataset({\n",
       "        features: ['input_ids', 'token_type_ids', 'attention_mask', 'labels'],\n",
       "        num_rows: 150\n",
       "    })\n",
       "})"
      ]
     },
     "execution_count": 12,
     "metadata": {},
     "output_type": "execute_result"
    }
   ],
   "source": [
    "tokenized_datasets"
   ]
  },
  {
   "cell_type": "code",
   "execution_count": 13,
   "id": "690e25ca-86b5-41dc-ad07-0c30f6e41a5d",
   "metadata": {},
   "outputs": [
    {
     "data": {
      "text/plain": [
       "<AxesSubplot: >"
      ]
     },
     "execution_count": 13,
     "metadata": {},
     "output_type": "execute_result"
    },
    {
     "data": {
      "image/png": "[encoded data removed]",
      "text/plain": [
       "<Figure size 2500x1000 with 2 Axes>"
      ]
     },
     "metadata": {},
     "output_type": "display_data"
    }
   ],
   "source": [
    "import pandas as pd\n",
    "import missingno as msno\n",
    "msno.matrix(pd.DataFrame(tokenized_datasets[\"train\"]['labels']))"
   ]
  },
  {
   "cell_type": "code",
   "execution_count": 14,
   "id": "fa27677f-cf86-4752-b389-505d32e45f40",
   "metadata": {},
   "outputs": [],
   "source": [
    "# 3. train while evaluate"
   ]
  },
  {
   "cell_type": "code",
   "execution_count": 15,
   "id": "2d03d8e7-778d-4d0f-b6d2-d5c940a71b35",
   "metadata": {},
   "outputs": [],
   "source": [
    "from transformers import DataCollatorForTokenClassification, AutoModelForTokenClassification, TrainingArguments, Trainer\n",
    "import evaluate\n",
    "import numpy as np\n",
    "\n",
    "data_collator = DataCollatorForTokenClassification(tokenizer=tokenizer)\n",
    "metric = evaluate.load(\"seqeval\")\n",
    "\n",
    "small_train = tokenized_datasets[\"train\"].shuffle(seed=42).select(range(64))\n",
    "small_eval = tokenized_datasets[\"validation\"].shuffle(seed=42).select(range(16))\n",
    "small_test = tokenized_datasets[\"test\"].shuffle(seed=42).select(range(8))\n",
    "\n",
    "data_collator = DataCollatorForTokenClassification(tokenizer=tokenizer)\n",
    "BatchSize = 8\n",
    "from torch.utils.data import DataLoader\n",
    "train_dataloader = DataLoader(\n",
    "    small_train, shuffle=True, batch_size=BatchSize, collate_fn=data_collator#tokenized_datasets[\"train\"]\n",
    ")\n",
    "eval_dataloader = DataLoader(\n",
    "    small_eval, batch_size=BatchSize, collate_fn=data_collator#tokenized_datasets[\"validation\"]\n",
    ")\n",
    "test_dataloader = DataLoader(\n",
    "    small_test, batch_size=BatchSize, collate_fn=data_collator#tokenized_datasets[\"test\"]\n",
    ")"
   ]
  },
  {
   "cell_type": "code",
   "execution_count": 16,
   "id": "d8c02d15",
   "metadata": {},
   "outputs": [],
   "source": [
    "label_names = [\"ARG0\", \"ARG1\", \"ARG2\", \"PRED\", \"SUPPORT\", \"None\"]"
   ]
  },
  {
   "cell_type": "code",
   "execution_count": 17,
   "id": "61d8796e",
   "metadata": {},
   "outputs": [],
   "source": [
    "from transformers import AutoConfig, AutoModel\n",
    "from transformers.modeling_outputs import TokenClassifierOutput\n",
    "\n",
    "import torch.nn as nn\n",
    "class CustomModel(nn.Module):\n",
    "    def __init__(self,checkpoint,num_labels): \n",
    "        super(CustomModel,self).__init__() \n",
    "        self.num_labels = num_labels \n",
    "\n",
    "        #Load Model with given checkpoint and extract its body\n",
    "        self.model = AutoModel.from_pretrained(checkpoint,config=AutoConfig.from_pretrained(checkpoint, output_attentions=True,output_hidden_states=True))\n",
    "        self.dropout = nn.Dropout(0.1) \n",
    "        self.classifier = nn.Linear(768,num_labels) # load and initialize weights\n",
    "\n",
    "    def forward(self, input_ids, token_type_ids, attention_mask, labels):\n",
    "        #TODO: add 2 more parameters as: forward(self, input_ids, token_type_ids, attention_mask, POS, BIO, labels)\n",
    "        #Extract outputs from the body\n",
    "        outputs = self.model(input_ids=input_ids, attention_mask=attention_mask)\n",
    "#         print(\"input_ids:::\"+str(input_ids.shape))\n",
    "#         print(\"labels:::\"+str(labels.shape))\n",
    "        #Add custom layers\n",
    "        sequence_output = self.dropout(outputs[0]) #outputs[0]=last hidden state\n",
    "#         print(\"sequence_output:::\"+str(sequence_output.shape))\n",
    "        #sequence_output = outputs\n",
    "        \n",
    "        \"\"\"\n",
    "        TODO: concat\n",
    "        After using print(sequence_output.size()) here, we have:\n",
    "        torch.Size([8, 44, 768])\n",
    "        torch.Size([8, 50, 768]) etc.\n",
    "        第一维度是全局batch_size我设置成8\n",
    "        第二维是一句话里面token的个数，是经过分割OOV过后的token数量\n",
    "        第三维是Bert的输出\n",
    "        \n",
    "        假设POS 48维，BIO 10维，那么总的第三维在concat后的总维数是 768+48+10，concat不会改变第一维和第二维的长度\n",
    "        \n",
    "        logits = self.classifier(sequence_output[:,:,:].view(-1, 768+48+10)) # calculate losses\n",
    "        \"\"\"\n",
    "        \n",
    "        logits = self.classifier(sequence_output[:,:,:].view(-1, 768)) # calculate losses\n",
    "        self.logits = logits\n",
    "        #print(\"logits::\"+str(logits.shape))\n",
    "\n",
    "        loss = None\n",
    "        if labels is not None:\n",
    "            loss_fct = nn.CrossEntropyLoss()\n",
    "            loss = loss_fct(logits.view(-1, self.num_labels), labels.view(-1))\n",
    "\n",
    "        return TokenClassifierOutput(loss=loss, logits=logits, hidden_states=outputs.hidden_states,attentions=outputs.attentions)"
   ]
  },
  {
   "cell_type": "code",
   "execution_count": 18,
   "id": "0a0c4d12",
   "metadata": {},
   "outputs": [
    {
     "name": "stderr",
     "output_type": "stream",
     "text": [
      "Some weights of the model checkpoint at bert-base-uncased were not used when initializing BertModel: ['cls.predictions.bias', 'cls.predictions.transform.dense.weight', 'cls.seq_relationship.weight', 'cls.predictions.transform.dense.bias', 'cls.predictions.decoder.weight', 'cls.seq_relationship.bias', 'cls.predictions.transform.LayerNorm.weight', 'cls.predictions.transform.LayerNorm.bias']\n",
      "- This IS expected if you are initializing BertModel from the checkpoint of a model trained on another task or with another architecture (e.g. initializing a BertForSequenceClassification model from a BertForPreTraining model).\n",
      "- This IS NOT expected if you are initializing BertModel from the checkpoint of a model that you expect to be exactly identical (initializing a BertForSequenceClassification model from a BertForSequenceClassification model).\n",
      "/Users/jiajingchen/miniforge3/lib/python3.10/site-packages/transformers/optimization.py:306: FutureWarning: This implementation of AdamW is deprecated and will be removed in a future version. Use the PyTorch implementation torch.optim.AdamW instead, or set `no_deprecation_warning=True` to disable this warning\n",
      "  warnings.warn(\n",
      "  0%|                                                    | 0/24 [00:00<?, ?it/s]\n",
      "  0%|                                                     | 0/6 [00:00<?, ?it/s]\u001b[AYou're using a BertTokenizerFast tokenizer. Please note that with a fast tokenizer, using the `__call__` method is faster than using a method to encode the text followed by a call to the `pad` method to get a padded encoding.\n",
      "/Users/jiajingchen/miniforge3/lib/python3.10/site-packages/seqeval/metrics/sequence_labeling.py:171: UserWarning: ARG1 seems not to be NE tag.\n",
      "  warnings.warn('{} seems not to be NE tag.'.format(chunk))\n",
      "/Users/jiajingchen/miniforge3/lib/python3.10/site-packages/seqeval/metrics/sequence_labeling.py:171: UserWarning: SUPPORT seems not to be NE tag.\n",
      "  warnings.warn('{} seems not to be NE tag.'.format(chunk))\n",
      "/Users/jiajingchen/miniforge3/lib/python3.10/site-packages/seqeval/metrics/sequence_labeling.py:171: UserWarning: None seems not to be NE tag.\n",
      "  warnings.warn('{} seems not to be NE tag.'.format(chunk))\n",
      "/Users/jiajingchen/miniforge3/lib/python3.10/site-packages/seqeval/metrics/sequence_labeling.py:171: UserWarning: PRED seems not to be NE tag.\n",
      "  warnings.warn('{} seems not to be NE tag.'.format(chunk))\n",
      "/Users/jiajingchen/miniforge3/lib/python3.10/site-packages/seqeval/metrics/v1.py:57: UndefinedMetricWarning: Precision and F-score are ill-defined and being set to 0.0 in labels with no predicted samples. Use `zero_division` parameter to control this behavior.\n",
      "  _warn_prf(average, modifier, msg_start, len(result))\n"
     ]
    },
    {
     "name": "stdout",
     "output_type": "stream",
     "text": [
      "the best f1 is now: 0.0\n",
      "{'RED': {'precision': 0.0, 'recall': 0.0, 'f1': 0.0, 'number': 8}, 'RG1': {'precision': 0.0, 'recall': 0.0, 'f1': 0.0, 'number': 9}, 'UPPORT': {'precision': 0.0, 'recall': 0.0, 'f1': 0.0, 'number': 5}, 'one': {'precision': 0.0, 'recall': 0.0, 'f1': 0.0, 'number': 26}, 'overall_precision': 0.0, 'overall_recall': 0.0, 'overall_f1': 0.0, 'overall_accuracy': 0.9222614840989399}\n",
      "{'RED': {'precision': 0.0, 'recall': 0.0, 'f1': 0.0, 'number': 8}, 'RG1': {'precision': 0.0, 'recall': 0.0, 'f1': 0.0, 'number': 9}, 'UPPORT': {'precision': 0.0, 'recall': 0.0, 'f1': 0.0, 'number': 5}, 'one': {'precision': 0.0, 'recall': 0.0, 'f1': 0.0, 'number': 26}, 'overall_precision': 0.0, 'overall_recall': 0.0, 'overall_f1': 0.0, 'overall_accuracy': 0.9222614840989399}\n"
     ]
    },
    {
     "name": "stderr",
     "output_type": "stream",
     "text": [
      " 71%|██████████████████████████████▍            | 17/24 [00:10<00:04,  1.70it/s]\n",
      "100%|███████████████████████████████████████████| 24/24 [00:12<00:00,  1.92it/s]\u001b[A\n",
      " 83%|█████████████████████████████████████▌       | 5/6 [00:13<00:02,  2.63s/it]\u001b[A\n",
      "100%|█████████████████████████████████████████████| 6/6 [00:13<00:00,  2.08s/it]\u001b[A"
     ]
    },
    {
     "name": "stdout",
     "output_type": "stream",
     "text": [
      "{'RED': {'precision': 0.0, 'recall': 0.0, 'f1': 0.0, 'number': 8}, 'RG1': {'precision': 0.0, 'recall': 0.0, 'f1': 0.0, 'number': 9}, 'UPPORT': {'precision': 0.0, 'recall': 0.0, 'f1': 0.0, 'number': 5}, 'one': {'precision': 0.0, 'recall': 0.0, 'f1': 0.0, 'number': 26}, 'overall_precision': 0.0, 'overall_recall': 0.0, 'overall_f1': 0.0, 'overall_accuracy': 0.9222614840989399}\n"
     ]
    }
   ],
   "source": [
    "import torch\n",
    "from tqdm import tqdm\n",
    "from transformers import AdamW,get_scheduler\n",
    "from datasets import load_metric\n",
    "metric = evaluate.load(\"seqeval\")\n",
    "\n",
    "num_epochs = 3\n",
    "model_cc = CustomModel(checkpoint=model_checkpoint,num_labels=len(label_names))#.cuda()\n",
    "optimizer = AdamW(model_cc.parameters(), lr=2e-5)\n",
    "num_training_steps = num_epochs * len(train_dataloader)\n",
    "progress_bar_train = tqdm(range(num_training_steps),miniters=100)\n",
    "progress_bar_eval = tqdm(range(num_epochs * len(eval_dataloader)),miniters=20)\n",
    "f1_best = 0\n",
    "resume_flag = False\n",
    "best_net = None\n",
    "\n",
    "lr_scheduler = get_scheduler(\n",
    "    \"linear\",\n",
    "    optimizer=optimizer,\n",
    "    num_warmup_steps=0,\n",
    "    num_training_steps=num_training_steps,\n",
    ")\n",
    "\n",
    "for epoch in range(num_epochs):\n",
    "    if resume_flag:\n",
    "        model_cc.load_state_dict(torch.load(\"sstcls_best.dat\"))\n",
    "    model_cc.train()\n",
    "    for batch in train_dataloader:\n",
    "        batch = {k: v for k, v in batch.items()}#.cuda()\n",
    "        outputs = model_cc(batch['input_ids'], token_type_ids=batch['token_type_ids'], attention_mask=batch['attention_mask'],labels=batch['labels'])\n",
    "        #TODO: add 2 more parameters as followed:\n",
    "        #model_cc(batch['input_ids'], token_type_ids=batch['token_type_ids'], attention_mask=batch['attention_mask'],POS = batch['POS'], BIO = batch['BIO'], labels=batch['labels'])\n",
    "        loss = outputs.loss\n",
    "        loss.backward()\n",
    "\n",
    "        optimizer.step()\n",
    "        lr_scheduler.step()\n",
    "        optimizer.zero_grad()\n",
    "        progress_bar_train.update(1)\n",
    "    model_cc.eval()\n",
    "    f1_now = []\n",
    "    for batch in eval_dataloader:\n",
    "        batch = {k: v for k, v in batch.items()}#.cuda()\n",
    "        with torch.no_grad():\n",
    "            outputs = model_cc(batch['input_ids'], token_type_ids=batch['token_type_ids'], attention_mask=batch['attention_mask'],labels=batch['labels'])\n",
    "            #TODO: add 2 more parameters as followed:\n",
    "            #model_cc(batch['input_ids'], token_type_ids=batch['token_type_ids'], attention_mask=batch['attention_mask'],POS = batch['POS'], BIO = batch['BIO'], labels=batch['labels'])\n",
    "        logits = outputs.logits\n",
    "        predictions = torch.argmax(logits, dim=-1)\n",
    "\n",
    "        true_labels = [[label_names[l] for l in label if l != -100] for label in batch[\"labels\"]]\n",
    "        \n",
    "        reshaped_predictions = torch.reshape(predictions, (BatchSize,-1))\n",
    "        true_predictions = [\n",
    "            [label_names[p] for (p, l) in zip(prediction, label) if l != -100]\n",
    "            for prediction, label in zip(reshaped_predictions, batch[\"labels\"])\n",
    "        ]\n",
    "        \n",
    "        all_metrics = metric.compute(predictions=true_predictions, references=true_labels)\n",
    "        metric.add_batch(predictions=true_predictions, references=true_labels)\n",
    "        progress_bar_eval.update(1)\n",
    "        f1_now.append(all_metrics[\"overall_f1\"])\n",
    "        \n",
    "    if np.mean(f1_now) > f1_best or not best_net:\n",
    "        torch.save(model_cc.state_dict(), 'sstcls_best.dat')\n",
    "        f1_best = np.mean(f1_now)\n",
    "        print(\"the best f1 is now: \"+ str(np.mean(f1_now)))\n",
    "        best_net = model_cc\n",
    "        \n",
    "\n",
    "    print(metric.compute())"
   ]
  },
  {
   "cell_type": "code",
   "execution_count": 19,
   "id": "00dea989",
   "metadata": {},
   "outputs": [],
   "source": [
    "def predict(net, dataloader, gpu):\n",
    "    net.eval()\n",
    "\n",
    "    f1_now = []\n",
    "    precision_now = []\n",
    "    recall_now = []\n",
    "    accuracy_now = []\n",
    "    for batch in eval_dataloader:\n",
    "        batch = {k: v for k, v in batch.items()}#.cuda()\n",
    "        with torch.no_grad():\n",
    "            outputs = model_cc(batch['input_ids'], token_type_ids=batch['token_type_ids'], attention_mask=batch['attention_mask'], labels=batch['labels'])\n",
    "            #TODO: add 2 more parameters as followed:\n",
    "            #model_cc(batch['input_ids'], token_type_ids=batch['token_type_ids'], attention_mask=batch['attention_mask'],POS = batch['POS'], BIO = batch['BIO'], labels=batch['labels'])\n",
    "        logits = outputs.logits\n",
    "        predictions = torch.argmax(logits, dim=-1)\n",
    "\n",
    "        true_labels = [[label_names[l] for l in label if l != -100] for label in batch[\"labels\"]]\n",
    "        \n",
    "        reshaped_predictions = torch.reshape(predictions, (BatchSize,-1))\n",
    "        true_predictions = [\n",
    "            [label_names[p] for (p, l) in zip(prediction, label) if l != -100]\n",
    "            for prediction, label in zip(reshaped_predictions, batch[\"labels\"])\n",
    "        ]\n",
    "        \n",
    "        all_metrics = metric.compute(predictions=true_predictions, references=true_labels)\n",
    "        metric.add_batch(predictions=true_predictions, references=true_labels)\n",
    "        progress_bar_eval.update(1)\n",
    "        f1_now.append(all_metrics[\"overall_f1\"])\n",
    "        precision_now.append(all_metrics[\"overall_precision\"])\n",
    "        recall_now.append(all_metrics[\"overall_recall\"])\n",
    "        accuracy_now.append(all_metrics[\"overall_accuracy\"])\n",
    "\n",
    "\n",
    "    return np.mean(f1_now), np.mean(precision_now), np.mean(recall_now), np.mean(accuracy_now),\n",
    "\n"
   ]
  },
  {
   "cell_type": "code",
   "execution_count": 20,
   "id": "aca124a4",
   "metadata": {},
   "outputs": [
    {
     "name": "stderr",
     "output_type": "stream",
     "text": [
      "\n",
      "7it [00:13,  1.62s/it]                                                          \u001b[A\n",
      "8it [00:13,  1.25s/it]\u001b[A"
     ]
    },
    {
     "name": "stdout",
     "output_type": "stream",
     "text": [
      "test_f1_score:::0.0\n",
      "test_precision_score:::0.0\n",
      "test_recall_score:::0.0\n",
      "test_accuracy_score:::0.9005667060212514\n"
     ]
    }
   ],
   "source": [
    "preds = predict(best_net, test_dataloader, 0)\n",
    "print(\"test_f1_score:::\"+str(preds[0]))\n",
    "print(\"test_precision_score:::\"+str(preds[1]))\n",
    "print(\"test_recall_score:::\"+str(preds[2]))\n",
    "print(\"test_accuracy_score:::\"+str(preds[3]))"
   ]
  }
 ],
 "metadata": {
  "kernelspec": {
   "display_name": "Python 3 (ipykernel)",
   "language": "python",
   "name": "python3"
  },
  "language_info": {
   "codemirror_mode": {
    "name": "ipython",
    "version": 3
   },
   "file_extension": ".py",
   "mimetype": "text/x-python",
   "name": "python",
   "nbconvert_exporter": "python",
   "pygments_lexer": "ipython3",
   "version": "3.10.6"
  }
 },
 "nbformat": 4,
 "nbformat_minor": 5
}
